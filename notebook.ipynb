{
 "cells": [
  {
   "cell_type": "markdown",
   "source": [
    "# Intro"
   ],
   "metadata": {
    "collapsed": false
   },
   "id": "7e3192e3031d301"
  },
  {
   "cell_type": "code",
   "outputs": [],
   "source": [
    "import matplotlib.pyplot as plt\n",
    "\n",
    "label_mapping = {0: 'setosa', 1: 'versicolor', 2: 'virginica'}\n",
    "results = {}"
   ],
   "metadata": {
    "collapsed": false,
    "ExecuteTime": {
     "end_time": "2024-05-26T22:18:22.024352Z",
     "start_time": "2024-05-26T22:18:22.011313Z"
    }
   },
   "id": "d3ff0e8d3c15935d",
   "execution_count": 24
  },
  {
   "cell_type": "markdown",
   "source": [
    "## Offline Decision Tree - sklearn\n",
    "\n"
   ],
   "metadata": {
    "collapsed": false
   },
   "id": "261aec2bd9591022"
  },
  {
   "cell_type": "code",
   "outputs": [
    {
     "name": "stdout",
     "output_type": "stream",
     "text": [
      "Model accuracy: 0.9778\n"
     ]
    },
    {
     "data": {
      "text/plain": "<Figure size 640x480 with 2 Axes>",
      "image/png": "[encoded data removed]"
     },
     "metadata": {},
     "output_type": "display_data"
    }
   ],
   "source": [
    "from sklearn import datasets\n",
    "from sklearn.tree import DecisionTreeClassifier\n",
    "from sklearn.model_selection import train_test_split\n",
    "from sklearn.metrics import accuracy_score, confusion_matrix, ConfusionMatrixDisplay\n",
    "\n",
    "iris = datasets.load_iris()\n",
    "X_train, X_test, y_train, y_test = train_test_split(\n",
    "    iris.data, iris.target, test_size=0.3, stratify=iris.target, random_state=42\n",
    ")\n",
    "offline_dt = DecisionTreeClassifier(random_state=0)\n",
    "offline_dt.fit(X_train, y_train)\n",
    "y_pred = offline_dt.predict(X_test)\n",
    "\n",
    "accuracy = accuracy_score(y_test, y_pred)\n",
    "print(f'Model accuracy: {accuracy:.4f}')\n",
    "cm = confusion_matrix(y_test, y_pred, labels=offline_dt.classes_)\n",
    "\n",
    "# Plot the confusion matrix\n",
    "disp = ConfusionMatrixDisplay(confusion_matrix=cm, display_labels=list(map(label_mapping.get, offline_dt.classes_)))\n",
    "disp.plot(cmap=plt.cm.Blues)\n",
    "plt.show()\n",
    "\n",
    "results[\"offline_decision_tree\"] = dict(accuracy=accuracy,\n",
    "           cm_plot=disp)"
   ],
   "metadata": {
    "collapsed": false,
    "ExecuteTime": {
     "end_time": "2024-05-26T22:18:25.680347Z",
     "start_time": "2024-05-26T22:18:25.566030Z"
    }
   },
   "id": "a2bc0ed31c6e70e1",
   "execution_count": 25
  },
  {
   "cell_type": "markdown",
   "source": [
    "## Online Hoeffding Tree - river"
   ],
   "metadata": {
    "collapsed": false
   },
   "id": "4c57711c462d475c"
  },
  {
   "cell_type": "code",
   "outputs": [
    {
     "name": "stdout",
     "output_type": "stream",
     "text": [
      "Split on petal width (cm)\t Parent: NoneType\n",
      "Split on petal width (cm)\t Parent: petal width (cm)\n",
      "Split on petal width (cm)\t Parent: petal width (cm)\n",
      "Split on petal width (cm)\t Parent: petal width (cm)\n",
      "Split on petal width (cm)\t Parent: petal width (cm)\n",
      "Split on petal width (cm)\t Parent: petal width (cm)\n",
      "Split on sepal width (cm)\t Parent: petal width (cm)\n",
      "Model accuracy: 0.8859\n"
     ]
    },
    {
     "data": {
      "text/plain": "    0    1    2   \n0   46    3    0  \n1    4   43    3  \n2    0    7   43  "
     },
     "execution_count": 37,
     "metadata": {},
     "output_type": "execute_result"
    }
   ],
   "source": [
    "from river.tree import HoeffdingTreeClassifier\n",
    "from river.stream import iter_sklearn_dataset\n",
    "from river.metrics import Accuracy\n",
    "\n",
    "hoeffding_tree = HoeffdingTreeClassifier(tau=1.5, grace_period=3)\n",
    "\n",
    "metric = Accuracy()\n",
    "for x, y in iter_sklearn_dataset(iris, shuffle=True, seed=42):\n",
    "    y_pred = hoeffding_tree.predict_one(x)\n",
    "    if y_pred is not None:\n",
    "        metric.update(y, y_pred)\n",
    "    hoeffding_tree.learn_one(x, y)\n",
    "\n",
    "accuracy = metric.get()\n",
    "print(f'Model accuracy: {accuracy:.4f}')\n",
    "cm = metric.cm\n",
    "cm"
   ],
   "metadata": {
    "collapsed": false,
    "ExecuteTime": {
     "end_time": "2024-05-26T22:25:59.974849Z",
     "start_time": "2024-05-26T22:25:59.939088Z"
    }
   },
   "id": "bce3eaa9751d813c",
   "execution_count": 37
  },
  {
   "cell_type": "code",
   "outputs": [
    {
     "name": "stdout",
     "output_type": "stream",
     "text": [
      "Split on petal width (cm)\t Parent: NoneType\n",
      "Split on petal width (cm)\t Parent: petal width (cm)\n",
      "Split on petal width (cm)\t Parent: petal width (cm)\n",
      "Split on petal width (cm)\t Parent: petal width (cm)\n",
      "Split on petal width (cm)\t Parent: petal width (cm)\n",
      "Split on petal width (cm)\t Parent: petal width (cm)\n",
      "Split on sepal width (cm)\t Parent: petal width (cm)\n",
      "Accuracy: 0.886\n",
      "    0    1    2   \n",
      "0   46    3    0  \n",
      "1    4   43    3  \n",
      "2    0    7   43  \n"
     ]
    }
   ],
   "source": [
    "from river.evaluate import progressive_val_score\n",
    "\n",
    "stream = iter_sklearn_dataset(iris, shuffle=True, seed=42)\n",
    "hoeffding_tree = HoeffdingTreeClassifier(tau=1.5, grace_period=3)\n",
    "metric = Accuracy()\n",
    "\n",
    "progressive_val_score(dataset=stream, model=hoeffding_tree, metric=metric)\n",
    "print(f\"Accuracy: {metric.get():.3f}\")\n",
    "print(metric.cm)"
   ],
   "metadata": {
    "collapsed": false,
    "ExecuteTime": {
     "end_time": "2024-05-26T22:30:35.946051Z",
     "start_time": "2024-05-26T22:30:35.908454Z"
    }
   },
   "id": "18a6ea473cd1ecb7",
   "execution_count": 44
  },
  {
   "cell_type": "markdown",
   "source": [
    "# Hoeffding Option Tree Implementation\n",
    "\n",
    "$\\delta = 0.955$"
   ],
   "metadata": {
    "collapsed": false
   },
   "id": "6de2813b19a507ce"
  },
  {
   "cell_type": "code",
   "outputs": [
    {
     "name": "stderr",
     "output_type": "stream",
     "text": [
      "[in learn_one] 1\tNew instance received. Class: 0\n",
      "[in learn_one] 2\tNew instance received. Class: 0\n",
      "[in learn_one] 3\tNew instance received. Class: 1\n",
      "[in learn_one] 4\tNew instance received. Class: 1\n",
      "[in learn_one] 5\tNew instance received. Class: 1\n",
      "[in learn_one] 6\tNew instance received. Class: 0\n",
      "[in _attempt_to_split] Split on petal width (cm)\n",
      "[in learn_one] 7\tNew instance received. Class: 0\n",
      "[in learn_one] 8\tNew instance received. Class: 2\n",
      "[in learn_one] 9\tNew instance received. Class: 0\n",
      "[in learn_one] 10\tNew instance received. Class: 2\n",
      "[in learn_one] 11\tNew instance received. Class: 0\n",
      "[in learn_one] 12\tNew instance received. Class: 0\n",
      "[in learn_one] 13\tNew instance received. Class: 0\n",
      "[in learn_one] 14\tNew instance received. Class: 1\n",
      "[in learn_one] 15\tNew instance received. Class: 1\n",
      "[in _attempt_to_split] Split on petal width (cm)\n",
      "[in learn_one] 16\tNew instance received. Class: 2\n",
      "[in learn_one] 17\tNew instance received. Class: 2\n",
      "[in learn_one] 18\tNew instance received. Class: 1\n",
      "[in _attempt_to_split] Adding new DTBranch to OptionNode, which splits on petal length (cm)\n",
      "[in _attempt_to_split] Split on petal width (cm)\n",
      "[in learn_one] 19\tNew instance received. Class: 2\n",
      "[in learn_one] 20\tNew instance received. Class: 1\n",
      "[in learn_one] 21\tNew instance received. Class: 2\n",
      "[in _attempt_to_split] Split on petal width (cm)\n",
      "[in learn_one] 22\tNew instance received. Class: 1\n",
      "[in learn_one] 23\tNew instance received. Class: 0\n",
      "[in learn_one] 24\tNew instance received. Class: 1\n",
      "[in learn_one] 25\tNew instance received. Class: 2\n",
      "[in learn_one] 26\tNew instance received. Class: 0\n",
      "[in learn_one] 27\tNew instance received. Class: 1\n",
      "[in learn_one] 28\tNew instance received. Class: 1\n",
      "[in learn_one] 29\tNew instance received. Class: 0\n",
      "[in _attempt_to_split] Split on petal width (cm)\n",
      "[in learn_one] 30\tNew instance received. Class: 2\n",
      "[in _attempt_to_split] Adding new DTBranch to OptionNode, which splits on petal length (cm)\n",
      "[in learn_one] 31\tNew instance received. Class: 0\n",
      "[in learn_one] 32\tNew instance received. Class: 0\n",
      "[in learn_one] 33\tNew instance received. Class: 2\n",
      "[in learn_one] 34\tNew instance received. Class: 2\n",
      "[in learn_one] 35\tNew instance received. Class: 0\n",
      "[in learn_one] 36\tNew instance received. Class: 0\n",
      "[in learn_one] 37\tNew instance received. Class: 0\n",
      "[in learn_one] 38\tNew instance received. Class: 0\n",
      "[in learn_one] 39\tNew instance received. Class: 0\n",
      "[in learn_one] 40\tNew instance received. Class: 2\n",
      "[in learn_one] 41\tNew instance received. Class: 0\n",
      "[in learn_one] 42\tNew instance received. Class: 1\n",
      "[in _attempt_to_split] Split on petal width (cm)\n",
      "[in learn_one] 43\tNew instance received. Class: 0\n",
      "[in learn_one] 44\tNew instance received. Class: 2\n",
      "[in learn_one] 45\tNew instance received. Class: 0\n",
      "[in _attempt_to_split] Adding new DTBranch to OptionNode, which splits on petal length (cm)\n",
      "[in learn_one] 46\tNew instance received. Class: 1\n",
      "[in learn_one] 47\tNew instance received. Class: 1\n",
      "[in _attempt_to_split] Split on petal width (cm)\n",
      "[in _attempt_to_split] Split on petal width (cm)\n",
      "[in learn_one] 48\tNew instance received. Class: 1\n",
      "[in _attempt_to_split] Split on petal width (cm)\n",
      "[in learn_one] 49\tNew instance received. Class: 0\n",
      "[in learn_one] 50\tNew instance received. Class: 2\n",
      "[in _attempt_to_split] Split on petal width (cm)\n",
      "[in _attempt_to_split] Split on petal width (cm)\n",
      "[in learn_one] 51\tNew instance received. Class: 0\n",
      "[in learn_one] 52\tNew instance received. Class: 2\n",
      "[in learn_one] 53\tNew instance received. Class: 0\n",
      "[in learn_one] 54\tNew instance received. Class: 1\n",
      "[in learn_one] 55\tNew instance received. Class: 1\n",
      "[in learn_one] 56\tNew instance received. Class: 0\n",
      "[in learn_one] 57\tNew instance received. Class: 1\n",
      "[in learn_one] 58\tNew instance received. Class: 0\n",
      "[in learn_one] 59\tNew instance received. Class: 1\n",
      "[in learn_one] 60\tNew instance received. Class: 2\n",
      "[in learn_one] 61\tNew instance received. Class: 2\n",
      "[in learn_one] 62\tNew instance received. Class: 1\n",
      "[in learn_one] 63\tNew instance received. Class: 0\n",
      "[in learn_one] 64\tNew instance received. Class: 2\n",
      "[in learn_one] 65\tNew instance received. Class: 1\n",
      "[in learn_one] 66\tNew instance received. Class: 1\n",
      "[in learn_one] 67\tNew instance received. Class: 2\n",
      "[in learn_one] 68\tNew instance received. Class: 2\n",
      "[in learn_one] 69\tNew instance received. Class: 2\n",
      "[in learn_one] 70\tNew instance received. Class: 2\n",
      "[in _attempt_to_split] Split on petal width (cm)\n",
      "[in _attempt_to_split] Split on petal width (cm)\n",
      "[in _attempt_to_split] Split on petal width (cm)\n",
      "[in learn_one] 71\tNew instance received. Class: 1\n",
      "[in learn_one] 72\tNew instance received. Class: 2\n",
      "[in learn_one] 73\tNew instance received. Class: 0\n",
      "[in learn_one] 74\tNew instance received. Class: 2\n",
      "[in learn_one] 75\tNew instance received. Class: 2\n",
      "[in learn_one] 76\tNew instance received. Class: 0\n",
      "[in learn_one] 77\tNew instance received. Class: 0\n",
      "[in learn_one] 78\tNew instance received. Class: 0\n",
      "[in learn_one] 79\tNew instance received. Class: 2\n",
      "[in learn_one] 80\tNew instance received. Class: 0\n",
      "[in learn_one] 81\tNew instance received. Class: 1\n",
      "[in learn_one] 82\tNew instance received. Class: 2\n",
      "[in learn_one] 83\tNew instance received. Class: 1\n",
      "[in learn_one] 84\tNew instance received. Class: 1\n",
      "[in learn_one] 85\tNew instance received. Class: 2\n",
      "[in learn_one] 86\tNew instance received. Class: 0\n",
      "[in learn_one] 87\tNew instance received. Class: 2\n",
      "[in learn_one] 88\tNew instance received. Class: 0\n",
      "[in learn_one] 89\tNew instance received. Class: 1\n",
      "[in learn_one] 90\tNew instance received. Class: 0\n",
      "[in learn_one] 91\tNew instance received. Class: 1\n",
      "[in _attempt_to_split] Adding new DTBranch to OptionNode, which splits on petal length (cm)\n",
      "[in learn_one] 92\tNew instance received. Class: 1\n",
      "[in learn_one] 93\tNew instance received. Class: 0\n",
      "[in learn_one] 94\tNew instance received. Class: 0\n",
      "[in learn_one] 95\tNew instance received. Class: 0\n",
      "[in learn_one] 96\tNew instance received. Class: 2\n",
      "[in learn_one] 97\tNew instance received. Class: 0\n",
      "[in learn_one] 98\tNew instance received. Class: 1\n",
      "[in learn_one] 99\tNew instance received. Class: 1\n",
      "[in learn_one] 100\tNew instance received. Class: 2\n",
      "[in learn_one] 101\tNew instance received. Class: 1\n",
      "[in learn_one] 102\tNew instance received. Class: 1\n",
      "[in learn_one] 103\tNew instance received. Class: 2\n",
      "[in learn_one] 104\tNew instance received. Class: 0\n",
      "[in learn_one] 105\tNew instance received. Class: 1\n",
      "[in learn_one] 106\tNew instance received. Class: 2\n",
      "[in learn_one] 107\tNew instance received. Class: 0\n",
      "[in learn_one] 108\tNew instance received. Class: 1\n",
      "[in learn_one] 109\tNew instance received. Class: 2\n",
      "[in learn_one] 110\tNew instance received. Class: 1\n",
      "[in learn_one] 111\tNew instance received. Class: 1\n",
      "[in learn_one] 112\tNew instance received. Class: 2\n",
      "[in learn_one] 113\tNew instance received. Class: 1\n",
      "[in _attempt_to_split] Split on petal width (cm)\n",
      "[in learn_one] 114\tNew instance received. Class: 2\n",
      "[in learn_one] 115\tNew instance received. Class: 2\n",
      "[in learn_one] 116\tNew instance received. Class: 2\n",
      "[in learn_one] 117\tNew instance received. Class: 2\n",
      "[in learn_one] 118\tNew instance received. Class: 0\n",
      "[in learn_one] 119\tNew instance received. Class: 1\n",
      "[in learn_one] 120\tNew instance received. Class: 1\n",
      "[in learn_one] 121\tNew instance received. Class: 1\n",
      "[in learn_one] 122\tNew instance received. Class: 2\n",
      "[in learn_one] 123\tNew instance received. Class: 1\n",
      "[in learn_one] 124\tNew instance received. Class: 0\n",
      "[in learn_one] 125\tNew instance received. Class: 2\n",
      "[in learn_one] 126\tNew instance received. Class: 2\n",
      "[in learn_one] 127\tNew instance received. Class: 2\n",
      "[in learn_one] 128\tNew instance received. Class: 1\n",
      "[in learn_one] 129\tNew instance received. Class: 2\n",
      "[in learn_one] 130\tNew instance received. Class: 2\n",
      "[in _attempt_to_split] Split on petal length (cm)\n",
      "[in learn_one] 131\tNew instance received. Class: 0\n",
      "[in learn_one] 132\tNew instance received. Class: 1\n",
      "[in learn_one] 133\tNew instance received. Class: 0\n",
      "[in learn_one] 134\tNew instance received. Class: 2\n",
      "[in learn_one] 135\tNew instance received. Class: 0\n",
      "[in learn_one] 136\tNew instance received. Class: 1\n",
      "[in learn_one] 137\tNew instance received. Class: 2\n",
      "[in learn_one] 138\tNew instance received. Class: 0\n",
      "[in learn_one] 139\tNew instance received. Class: 1\n",
      "[in _attempt_to_split] Split on sepal width (cm)\n",
      "[in learn_one] 140\tNew instance received. Class: 1\n",
      "[in learn_one] 141\tNew instance received. Class: 0\n",
      "[in learn_one] 142\tNew instance received. Class: 0\n",
      "[in learn_one] 143\tNew instance received. Class: 0\n",
      "[in learn_one] 144\tNew instance received. Class: 2\n",
      "[in learn_one] 145\tNew instance received. Class: 1\n",
      "[in learn_one] 146\tNew instance received. Class: 1\n",
      "[in learn_one] 147\tNew instance received. Class: 2\n",
      "[in learn_one] 148\tNew instance received. Class: 2\n",
      "[in learn_one] 149\tNew instance received. Class: 2\n",
      "[in _attempt_to_split] Adding new DTBranch to OptionNode, which splits on petal width (cm)\n",
      "[in _attempt_to_split] Split on petal width (cm)\n",
      "[in _attempt_to_split] Split on petal length (cm)\n",
      "[in learn_one] 150\tNew instance received. Class: 1\n"
     ]
    },
    {
     "name": "stdout",
     "output_type": "stream",
     "text": [
      "Accuracy: 0.899\n",
      "    0    1    2   \n",
      "0   48    1    0  \n",
      "1    3   42    5  \n",
      "2    2    4   44  \n"
     ]
    }
   ],
   "source": [
    "from hoeffding_option_tree import HoeffdingOptionTreeClassifier\n",
    "\n",
    "stream = iter_sklearn_dataset(iris, shuffle=True, seed=42)\n",
    "hoeffding_tree = HoeffdingOptionTreeClassifier(tau=1.5, grace_period=3,\n",
    "                                               delta_prime=0.955,\n",
    "                                               max_options=3)\n",
    "metric = Accuracy()\n",
    "\n",
    "progressive_val_score(dataset=stream, model=hoeffding_tree, metric=metric)\n",
    "print(f\"Accuracy: {metric.get():.3f}\")\n",
    "print(metric.cm)"
   ],
   "metadata": {
    "collapsed": false,
    "ExecuteTime": {
     "end_time": "2024-05-26T22:31:37.843950Z",
     "start_time": "2024-05-26T22:31:37.533646Z"
    }
   },
   "id": "3c54d58288162fc9",
   "execution_count": 46
  }
 ],
 "metadata": {
  "kernelspec": {
   "display_name": "Python 3",
   "language": "python",
   "name": "python3"
  },
  "language_info": {
   "codemirror_mode": {
    "name": "ipython",
    "version": 2
   },
   "file_extension": ".py",
   "mimetype": "text/x-python",
   "name": "python",
   "nbconvert_exporter": "python",
   "pygments_lexer": "ipython2",
   "version": "2.7.6"
  }
 },
 "nbformat": 4,
 "nbformat_minor": 5
}
